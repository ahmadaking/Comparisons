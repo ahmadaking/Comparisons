{
  "cells": [
    {
      "cell_type": "markdown",
      "metadata": {
        "id": "view-in-github",
        "colab_type": "text"
      },
      "source": [
        "<a href=\"https://colab.research.google.com/github/ahmadaking/Comparisons/blob/master/useful_modules/introduction_pickle.ipynb\" target=\"_parent\"><img src=\"https://colab.research.google.com/assets/colab-badge.svg\" alt=\"Open In Colab\"/></a>"
      ]
    },
    {
      "cell_type": "markdown",
      "metadata": {
        "id": "hFQ9uzUuWF39"
      },
      "source": [
        "![NASA](http://www.nasa.gov/sites/all/themes/custom/nasatwo/images/nasa-logo.svg)\n",
        "\n",
        "<center>\n",
        "<h1><font size=\"+3\">GSFC Python Bootcamp</font></h1>\n",
        "</center>\n",
        "\n",
        "---\n",
        "<center>\n",
        "<H1 style=\"color:red\">\n",
        "Serialization and Deserialization with pickle\n",
        "</H1>\n",
        "</center>\n"
      ]
    },
    {
      "cell_type": "code",
      "execution_count": null,
      "metadata": {
        "id": "lN1VTSDBWF3_"
      },
      "outputs": [],
      "source": [
        "from __future__ import print_function"
      ]
    },
    {
      "cell_type": "markdown",
      "metadata": {
        "id": "DZUvt5KVWF4A"
      },
      "source": [
        "## <font color=\"red\"> Serialization and Deserialization</font>\n",
        "* **Serialization** is a process of transforming objects or data structures into byte streams or strings. \n",
        "* These byte streams can then be stored or transferred easily. \n",
        "* This allows the developers to save, for example, configuration data or user's progress, and then store it (on disk or in a database) or send it to another location.\n",
        "* The reverse process of serialization is known as **deserialization**."
      ]
    },
    {
      "cell_type": "markdown",
      "metadata": {
        "id": "O-01gVaMWF4A"
      },
      "source": [
        "## <font color=\"red\"> What is pickle?</font>\n",
        "\n",
        "* The module `pickle` is used for serializing and deserializing a Python object structure. \n",
        "* Any object in python can be pickled so that it can be saved on disk. \n",
        "* `pickle` “serialises” the object first before writing it to file. \n",
        "* Pickling (serialization) is a way to convert a python object (list, dict, etc.) into a character stream which contains all the information necessary to reconstruct the object in another python script.\n",
        "\n",
        "The following types can be serialized and deserialized using the `pickle` module:\n",
        "* All native datatypes supported by Python (booleans, None, integers, floats, complex numbers, strings, bytes, byte arrays)\n",
        "* Dictionaries, sets, lists, and tuples - as long as they contain pickleable objects\n",
        "* Functions (pickled by their name references, and not by their value) and classes that are defined at the top level of a module\n"
      ]
    },
    {
      "cell_type": "markdown",
      "metadata": {
        "id": "1Hyti_ZEWF4B"
      },
      "source": [
        "## <font color=\"red\">Applications of Pickling</font>\n",
        "\n",
        "* Saving a program's state data to disk so that it can carry on where it left off when restarted (persistence)\n",
        "* Sending python data over a TCP connection in a multi-core or distributed system (marshalling)\n",
        "* Storing python objects in a database\n",
        "* Converting an arbitrary python object to a string so that it can be used as a dictionary key (e.g. for caching & memoization)\n",
        "* Machine Learning (saving <a href=\"https://pythonprogramming.net/pickle-classifier-save-nltk-tutorial/\">trained ML algorithm</a>)"
      ]
    },
    {
      "cell_type": "markdown",
      "metadata": {
        "id": "LjWJT9loWF4B"
      },
      "source": [
        "## <font color=\"red\">How to Use pickle</font>"
      ]
    },
    {
      "cell_type": "code",
      "execution_count": null,
      "metadata": {
        "id": "JmSfKaqNWF4C"
      },
      "outputs": [],
      "source": [
        "import pickle"
      ]
    },
    {
      "cell_type": "markdown",
      "metadata": {
        "id": "RF-5a7ywWF4C"
      },
      "source": [
        "The main functions of `pickle` are:\n",
        "\n",
        "* `dump()`: pickles data by accepting data and a file object.\n",
        "* `load()`: takes a file object, reconstruct the objects from the pickled representation, and returns it.\n",
        "* `dumps()`: returns the pickled data as a string.\n",
        "* `loads()`: reads the pickled data from a string.\n",
        "\n",
        "`dump()`/`load()` serializes/deserializes objects through files but `dumps()`/`loads()` serializes/deserializes objects through string representation."
      ]
    },
    {
      "cell_type": "markdown",
      "metadata": {
        "id": "bQCe6mLkWF4D"
      },
      "source": [
        "### Python Object Serialization\n",
        "\n",
        "The pickle module turns an arbitrary Python object into a series of bytes. This process is also called serialization. \n",
        "* Useful for storing data\n",
        "* Inter process communication"
      ]
    },
    {
      "cell_type": "code",
      "execution_count": null,
      "metadata": {
        "id": "4LYr8E1eWF4D"
      },
      "outputs": [],
      "source": [
        "data_org = { 'a':'A', 'b':2, 'c':3.0 } \n",
        "print('DATA:', data_org)"
      ]
    },
    {
      "cell_type": "markdown",
      "metadata": {
        "id": "u54Rc47BWF4D"
      },
      "source": [
        "The `dumps()` function creates a string representation of the value of the object."
      ]
    },
    {
      "cell_type": "code",
      "execution_count": null,
      "metadata": {
        "id": "Q6-mdYyLWF4E"
      },
      "outputs": [],
      "source": [
        "data_string = pickle.dumps(data_org)\n",
        "print('PICKLE:', data_string )"
      ]
    },
    {
      "cell_type": "markdown",
      "metadata": {
        "id": "6LQWmlHwWF4E"
      },
      "source": [
        "By default, the pickle will contain only ASCII characters. "
      ]
    },
    {
      "cell_type": "markdown",
      "metadata": {
        "id": "O2r9-R5yWF4E"
      },
      "source": [
        "### Python Object Deserialization\n",
        "\n",
        "* Once the data is serialized, you can write it to a file, socket, pipe, etc. \n",
        "* Then later you can read the file and unpickle the data to construct a new object with the same values."
      ]
    },
    {
      "cell_type": "markdown",
      "metadata": {
        "id": "hdHMB15OWF4F"
      },
      "source": [
        "**Get the data back from the serialized object**"
      ]
    },
    {
      "cell_type": "code",
      "execution_count": null,
      "metadata": {
        "id": "lg0vRoKHWF4F"
      },
      "outputs": [],
      "source": [
        "print('BEFORE: ', data_org)"
      ]
    },
    {
      "cell_type": "markdown",
      "metadata": {
        "id": "coUagrjXWF4G"
      },
      "source": [
        "The `loads()` function reconstructs the objects from the pickled string representation."
      ]
    },
    {
      "cell_type": "code",
      "execution_count": null,
      "metadata": {
        "id": "EG-owwvtWF4G"
      },
      "outputs": [],
      "source": [
        "data2 = pickle.loads(data_string)\n",
        "print('AFTER:  ',data2)"
      ]
    },
    {
      "cell_type": "code",
      "execution_count": null,
      "metadata": {
        "id": "wWz6hhhlWF4G"
      },
      "outputs": [],
      "source": [
        "print('EQUAL?:', (data_org == data2))\n",
        "print('SAME ?:', (data_org is data2))"
      ]
    },
    {
      "cell_type": "markdown",
      "metadata": {
        "id": "COZokR1xWF4H"
      },
      "source": [
        "**Write pickled data to a file and Read the data back**"
      ]
    },
    {
      "cell_type": "markdown",
      "metadata": {
        "id": "EpyGhFiyWF4H"
      },
      "source": [
        "The `dump()` function serializes the data and writes it to the file."
      ]
    },
    {
      "cell_type": "code",
      "execution_count": null,
      "metadata": {
        "id": "2zP_nyQYWF4H"
      },
      "outputs": [],
      "source": [
        "with open('pickled_data_file.pkl', 'wb') as fid:\n",
        "     pickle.dump(data_org, fid)"
      ]
    },
    {
      "cell_type": "markdown",
      "metadata": {
        "id": "O0mGVsjxWF4I"
      },
      "source": [
        "The `load()` function takes a file object, reconstruct the objects from the pickled representation, and returns it."
      ]
    },
    {
      "cell_type": "code",
      "execution_count": null,
      "metadata": {
        "id": "cJMKkEXMWF4I"
      },
      "outputs": [],
      "source": [
        "# Read the data from the file\n",
        "with open('pickled_data_file.pkl', 'rb') as fid:\n",
        "     data3 = pickle.load(fid)"
      ]
    },
    {
      "cell_type": "code",
      "execution_count": null,
      "metadata": {
        "id": "0eM9OzaAWF4I"
      },
      "outputs": [],
      "source": [
        "print('Data Before Write:', data_org)\n",
        "print('Data After  Read :', data3)\n",
        "print('EQUAL?:', (data_org == data3))"
      ]
    },
    {
      "cell_type": "markdown",
      "metadata": {
        "id": "4lBxRStSWF4I"
      },
      "source": [
        "### Pickling and Unpickling Custom Objects"
      ]
    },
    {
      "cell_type": "markdown",
      "metadata": {
        "id": "ezK1vjwdWF4J"
      },
      "source": [
        "**Example 1**: Instance of a class"
      ]
    },
    {
      "cell_type": "code",
      "execution_count": null,
      "metadata": {
        "id": "s2eBgDQPWF4J"
      },
      "outputs": [],
      "source": [
        "class Planets:\n",
        "      def __init__(self, platnet_name, planet_size):\n",
        "          self.size = planet_size\n",
        "          self.name = platnet_name"
      ]
    },
    {
      "cell_type": "code",
      "execution_count": null,
      "metadata": {
        "id": "vJCcqcJkWF4J"
      },
      "outputs": [],
      "source": [
        "mercury = Planets('Mercury', 1516.0)"
      ]
    },
    {
      "cell_type": "markdown",
      "metadata": {
        "id": "nEaLeD1bWF4K"
      },
      "source": [
        "* The file is opened in binary mode for writing. "
      ]
    },
    {
      "cell_type": "code",
      "execution_count": null,
      "metadata": {
        "id": "njpBwYAdWF4K"
      },
      "outputs": [],
      "source": [
        "with open('pickle_instance.pkl', 'wb') as pickle_out:\n",
        "     pickle.dump(mercury, pickle_out)"
      ]
    },
    {
      "cell_type": "markdown",
      "metadata": {
        "id": "JCGPb335WF4K"
      },
      "source": [
        "* The file is opened in binary mode for reading. "
      ]
    },
    {
      "cell_type": "code",
      "execution_count": null,
      "metadata": {
        "id": "0vODNKmOWF4L"
      },
      "outputs": [],
      "source": [
        "with open('pickle_instance.pkl', 'rb') as pickle_in:\n",
        "     unpickled_mercury = pickle.load(pickle_in)"
      ]
    },
    {
      "cell_type": "code",
      "execution_count": null,
      "metadata": {
        "id": "ZGORxRNPWF4L"
      },
      "outputs": [],
      "source": [
        "print(\"Name: \", unpickled_mercury.name)\n",
        "print(\"Size: \", unpickled_mercury.size)"
      ]
    },
    {
      "cell_type": "markdown",
      "metadata": {
        "id": "BOhFJlLAWF4L"
      },
      "source": [
        "**Example 2**: Collection of objects"
      ]
    },
    {
      "cell_type": "code",
      "execution_count": null,
      "metadata": {
        "id": "LQS0LbuAWF4M"
      },
      "outputs": [],
      "source": [
        "def my_func():\n",
        "    return \"my_func was called\""
      ]
    },
    {
      "cell_type": "code",
      "execution_count": null,
      "metadata": {
        "id": "LrQM-RTSWF4M"
      },
      "outputs": [],
      "source": [
        "with open('pickle_objects.pkl', 'wb') as pickle_out:\n",
        "     # serialize class object\n",
        "     pickle.dump(Planets, pickle_out)\n",
        "     # serialize class instance\n",
        "     pickle.dump(Planets('Jupiter', 43441), pickle_out)\n",
        "     # serialize function object\n",
        "     pickle.dump(my_func, pickle_out)\n",
        "     # serialize complex number\n",
        "     pickle.dump(3.7 + 2.5j, pickle_out)\n",
        "     # serialize bytes object\n",
        "     pickle.dump(bytes([1, 2, 3, 4, 5]), pickle_out)"
      ]
    },
    {
      "cell_type": "markdown",
      "metadata": {
        "id": "QXnl922qWF4N"
      },
      "source": [
        "* Objects are returned in the same order in which we have pickled them in the first place. \n",
        "* When there is no more data to return, the `load()` function throws `EOFError`."
      ]
    },
    {
      "cell_type": "code",
      "execution_count": null,
      "metadata": {
        "id": "AjQEqt7RWF4N"
      },
      "outputs": [],
      "source": [
        "with open('pickle_objects.pkl', 'rb') as pickle_in:\n",
        "     # deserialize class object\n",
        "     NewPlanets = pickle.load(pickle_in)\n",
        "     # deserialize class instance\n",
        "     new_jupiter = pickle.load(pickle_in)\n",
        "     # deserialize function object\n",
        "     new_func = pickle.load(pickle_in)\n",
        "     # deserialize complex number\n",
        "     new_complex = pickle.load(pickle_in)\n",
        "     # deserialize bytes object\n",
        "     new_byte = pickle.load(pickle_in)\n",
        "     pickle.load(pickle_in)"
      ]
    },
    {
      "cell_type": "markdown",
      "metadata": {
        "id": "hfei-aACWF4N"
      },
      "source": [
        "* Once you have unpickled the data you can use it like an ordinary Python object."
      ]
    },
    {
      "cell_type": "code",
      "execution_count": null,
      "metadata": {
        "id": "hZFjDpEXWF4O"
      },
      "outputs": [],
      "source": [
        "mercury = NewPlanets('Mercury', 1516.0)\n",
        "print(mercury.name, mercury.size)"
      ]
    },
    {
      "cell_type": "code",
      "execution_count": null,
      "metadata": {
        "id": "BW-nSzqUWF4O"
      },
      "outputs": [],
      "source": [
        "print(new_jupiter.name, new_jupiter.size)"
      ]
    },
    {
      "cell_type": "code",
      "execution_count": null,
      "metadata": {
        "id": "3apbXwxaWF4O"
      },
      "outputs": [],
      "source": [
        "new_func()"
      ]
    },
    {
      "cell_type": "code",
      "execution_count": null,
      "metadata": {
        "id": "euLKBWuoWF4P"
      },
      "outputs": [],
      "source": [
        "print(\"Complex Number: \", new_complex)\n",
        "print(\"Byte object: \", new_byte)"
      ]
    },
    {
      "cell_type": "markdown",
      "metadata": {
        "id": "WokOwhpkWF4P"
      },
      "source": [
        "## <font color=\"red\">Conclusions</font>"
      ]
    },
    {
      "cell_type": "markdown",
      "metadata": {
        "id": "rHgNijbwWF4P"
      },
      "source": [
        "**Advantages**\n",
        "\n",
        "1. Helps in saving complicated data.\n",
        "2. Quite easy to use, doesn’t require several lines of code and hence not bulky.\n",
        "3. Saved data is not so readable hence provides some data security.\n",
        "\n",
        "**Disadvantages**\n",
        "\n",
        "1. Non-Python programs may not be able to reconstruct pickled Python objects.\n",
        "2. Security risks in unpickling data from malicious sources."
      ]
    },
    {
      "cell_type": "markdown",
      "metadata": {
        "id": "5P56Hd9mWF4Q"
      },
      "source": [
        "**When to Pickle**\n",
        "\n",
        "* Pickling is useful for applications where you need some degree of persistency in your data. Your program's state data can be saved to disk, so you can continue working on it later on. \n",
        "* It can also be used to send data over a Transmission Control Protocol (TCP) or socket connection, or to store python objects in a database. \n",
        "* Pickle is very useful for when you're working with machine learning algorithms, where you want to save them to be able to make new predictions at a later time, without having to rewrite everything or train the model all over again.\n",
        "\n",
        "**When Not to Pickle**\n",
        "\n",
        "* If you want to use data across different programming languages, pickle is not recommended. Its protocol is specific to Python, thus, cross-language compatibility is not guaranteed. \n",
        "* The same holds for different versions of Python itself. Unpickling a file that was pickled in a different version of Python may not always work properly, so you have to make sure that you're using the same version and perform an update if necessary. \n",
        "* You should also try not to unpickle data from an untrusted source. Malicious code inside the file might be executed upon unpickling."
      ]
    },
    {
      "cell_type": "code",
      "execution_count": null,
      "metadata": {
        "id": "wAaqtKNQWF4Q"
      },
      "outputs": [],
      "source": []
    }
  ],
  "metadata": {
    "anaconda-cloud": {},
    "celltoolbar": "Raw Cell Format",
    "kernelspec": {
      "display_name": "Python 3",
      "language": "python",
      "name": "python3"
    },
    "language_info": {
      "codemirror_mode": {
        "name": "ipython",
        "version": 3
      },
      "file_extension": ".py",
      "mimetype": "text/x-python",
      "name": "python",
      "nbconvert_exporter": "python",
      "pygments_lexer": "ipython3",
      "version": "3.7.3"
    },
    "colab": {
      "provenance": [],
      "include_colab_link": true
    }
  },
  "nbformat": 4,
  "nbformat_minor": 0
}